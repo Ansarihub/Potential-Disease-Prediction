{
 "cells": [
  {
   "cell_type": "code",
   "execution_count": 1,
   "metadata": {},
   "outputs": [],
   "source": [
    "import tensorflow as tf\n",
    "import pandas as pd\n",
    "from sklearn.utils import shuffle\n",
    "import numpy as np\n",
    "from sklearn.metrics import f1_score\n"
   ]
  },
  {
   "cell_type": "code",
   "execution_count": 13,
   "metadata": {},
   "outputs": [],
   "source": [
    "data_frame = pd.read_csv(\"processed_dataset.csv\")\n"
   ]
  },
  {
   "cell_type": "code",
   "execution_count": 43,
   "metadata": {},
   "outputs": [],
   "source": [
    "train = data_frame.iloc[0:-100]\n",
    "test = data_frame.iloc[-100:-1]\n",
    "train_x = train.iloc[:,0:-6]\n",
    "train_y = train.iloc[:,-5:-1]\n",
    "test_x = test.iloc[:,0:-6]\n",
    "test_y = test.iloc[:,-5:-1]\n"
   ]
  },
  {
   "cell_type": "code",
   "execution_count": 45,
   "metadata": {},
   "outputs": [],
   "source": [
    "input_features = 5\n",
    "hidden_nodes1 = 10\n",
    "hidden_nodes2 = 20\n",
    "output_classes = 4\n"
   ]
  },
  {
   "cell_type": "code",
   "execution_count": 46,
   "metadata": {},
   "outputs": [],
   "source": [
    "X = tf.placeholder(tf.float32,shape=[None,input_features],name='XXX')\n",
    "Y = tf.placeholder(tf.float32,shape=[None,output_classes],name=\"YYY\")\n",
    "w1 = tf.Variable(tf.random_normal([input_features,hidden_nodes1]))\n",
    "b1 = tf.Variable(tf.random_normal([hidden_nodes1]))\n",
    "l1_out = tf.nn.softmax( tf.matmul(X,w1) + b1 )\n"
   ]
  },
  {
   "cell_type": "code",
   "execution_count": 47,
   "metadata": {},
   "outputs": [],
   "source": [
    "w2 = tf.Variable(tf.random_normal([hidden_nodes1,hidden_nodes2]))\n",
    "b2 = tf.Variable(tf.random_normal([hidden_nodes2]))\n",
    "l2_out = tf.nn.softmax(tf.matmul(l1_out,w2) + b2)"
   ]
  },
  {
   "cell_type": "code",
   "execution_count": 48,
   "metadata": {},
   "outputs": [],
   "source": [
    "w3 =  tf.Variable(tf.random_normal([hidden_nodes2,output_classes]))\n",
    "b3 = tf.Variable(tf.random_normal([output_classes]))\n",
    "y = tf.nn.softmax(tf.matmul(l2_out,w3) + b3)\n",
    "y_max = tf.argmax(y,1)"
   ]
  },
  {
   "cell_type": "code",
   "execution_count": 51,
   "metadata": {},
   "outputs": [],
   "source": [
    "cross_entropy = tf.reduce_mean(-tf.reduce_sum(Y * tf.log(y), reduction_indices=[1]))\n",
    "train_step = tf.train.GradientDescentOptimizer(0.005).minimize(cross_entropy)\n",
    "\n"
   ]
  },
  {
   "cell_type": "code",
   "execution_count": 55,
   "metadata": {},
   "outputs": [
    {
     "name": "stdout",
     "output_type": "stream",
     "text": [
      "0.313131\n"
     ]
    }
   ],
   "source": [
    "sess = tf.InteractiveSession()\n",
    "tf.global_variables_initializer().run()\n",
    "epochs = 2000\n",
    "for i in range(epochs):\n",
    "    sess.run(train_step, feed_dict={X:train_x, Y: train_y})\n",
    "    #print \"{} / {} done\".format(i, epochs)\n",
    "# print sess.run(Y_)\n",
    "correct_prediction = tf.equal(tf.argmax(Y,1), tf.argmax(y,1))\n",
    "accuracy = tf.reduce_mean(tf.cast(correct_prediction, tf.float32))\n",
    "print(sess.run(accuracy, feed_dict={X: test_x, Y:test_y}))\n"
   ]
  },
  {
   "cell_type": "code",
   "execution_count": null,
   "metadata": {},
   "outputs": [],
   "source": []
  }
 ],
 "metadata": {
  "kernelspec": {
   "display_name": "Python 2",
   "language": "python",
   "name": "python2"
  },
  "language_info": {
   "codemirror_mode": {
    "name": "ipython",
    "version": 2
   },
   "file_extension": ".py",
   "mimetype": "text/x-python",
   "name": "python",
   "nbconvert_exporter": "python",
   "pygments_lexer": "ipython2",
   "version": "2.7.12"
  }
 },
 "nbformat": 4,
 "nbformat_minor": 2
}
